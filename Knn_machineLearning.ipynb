{
 "cells": [
  {
   "cell_type": "markdown",
   "metadata": {},
   "source": [
    "# **Problem:**\n",
    "Use the `credit.csv` dataset to build **classification model** using KNN. The target variable is `default` which is a binary label to indicate of the loan is default (yes, no). Use all other variables for your feature set. "
   ]
  },
  {
   "cell_type": "markdown",
   "metadata": {},
   "source": [
    " **Read `credit.csv` into a dataframe `credit_df`. Display the first 5 rows**\n",
    "\n",
    "`hint`: Handel the missing value character '?' as na value.*"
   ]
  },
  {
   "cell_type": "code",
   "execution_count": 1,
   "metadata": {},
   "outputs": [],
   "source": [
    "import pandas as pd\n",
    "import numpy as np\n",
    "from sklearn.impute import SimpleImputer\n",
    "from sklearn import preprocessing\n",
    "from sklearn.preprocessing import OneHotEncoder\n",
    "from sklearn.neighbors import KNeighborsClassifier\n",
    "from sklearn import metrics\n",
    "from sklearn.pipeline import Pipeline\n",
    "from sklearn.pipeline import make_pipeline\n",
    "from sklearn.compose import ColumnTransformer\n",
    "%matplotlib inline\n",
    "import matplotlib.pyplot as plt\n",
    "from sklearn.model_selection import train_test_split\n",
    "import warnings\n",
    "warnings.filterwarnings(\"ignore\")"
   ]
  },
  {
   "cell_type": "code",
   "execution_count": 2,
   "metadata": {},
   "outputs": [
    {
     "data": {
      "text/html": [
       "<div>\n",
       "<style scoped>\n",
       "    .dataframe tbody tr th:only-of-type {\n",
       "        vertical-align: middle;\n",
       "    }\n",
       "\n",
       "    .dataframe tbody tr th {\n",
       "        vertical-align: top;\n",
       "    }\n",
       "\n",
       "    .dataframe thead th {\n",
       "        text-align: right;\n",
       "    }\n",
       "</style>\n",
       "<table border=\"1\" class=\"dataframe\">\n",
       "  <thead>\n",
       "    <tr style=\"text-align: right;\">\n",
       "      <th></th>\n",
       "      <th>Age</th>\n",
       "      <th>Gender</th>\n",
       "      <th>Occupation</th>\n",
       "      <th>Employment Status</th>\n",
       "      <th>Employement Type</th>\n",
       "      <th>Salary</th>\n",
       "      <th>Purchased</th>\n",
       "    </tr>\n",
       "  </thead>\n",
       "  <tbody>\n",
       "    <tr>\n",
       "      <th>0</th>\n",
       "      <td>34</td>\n",
       "      <td>Male</td>\n",
       "      <td>Salaried</td>\n",
       "      <td>Yes</td>\n",
       "      <td>Permanent</td>\n",
       "      <td>72000</td>\n",
       "      <td>No</td>\n",
       "    </tr>\n",
       "    <tr>\n",
       "      <th>1</th>\n",
       "      <td>42</td>\n",
       "      <td>Female</td>\n",
       "      <td>Business</td>\n",
       "      <td>Yes</td>\n",
       "      <td>Temporary</td>\n",
       "      <td>48000</td>\n",
       "      <td>Yes</td>\n",
       "    </tr>\n",
       "    <tr>\n",
       "      <th>2</th>\n",
       "      <td>?</td>\n",
       "      <td>Male</td>\n",
       "      <td>Business</td>\n",
       "      <td>No</td>\n",
       "      <td>Temporary</td>\n",
       "      <td>54000</td>\n",
       "      <td>No</td>\n",
       "    </tr>\n",
       "    <tr>\n",
       "      <th>3</th>\n",
       "      <td>38</td>\n",
       "      <td>Male</td>\n",
       "      <td>Business</td>\n",
       "      <td>No</td>\n",
       "      <td>Permanent</td>\n",
       "      <td>61000</td>\n",
       "      <td>No</td>\n",
       "    </tr>\n",
       "    <tr>\n",
       "      <th>4</th>\n",
       "      <td>32</td>\n",
       "      <td>Male</td>\n",
       "      <td>Salaried</td>\n",
       "      <td>?</td>\n",
       "      <td>Permanent</td>\n",
       "      <td>?</td>\n",
       "      <td>Yes</td>\n",
       "    </tr>\n",
       "  </tbody>\n",
       "</table>\n",
       "</div>"
      ],
      "text/plain": [
       "  Age  Gender Occupation Employment Status Employement Type Salary Purchased\n",
       "0  34    Male   Salaried               Yes        Permanent  72000        No\n",
       "1  42  Female   Business               Yes        Temporary  48000       Yes\n",
       "2   ?    Male   Business                No        Temporary  54000        No\n",
       "3  38    Male   Business                No        Permanent  61000        No\n",
       "4  32    Male   Salaried                 ?        Permanent      ?       Yes"
      ]
     },
     "execution_count": 2,
     "metadata": {},
     "output_type": "execute_result"
    }
   ],
   "source": [
    "credit_df = pd.read_csv ('product_purchased.csv')\n",
    "credit_df.head(5)"
   ]
  },
  {
   "cell_type": "markdown",
   "metadata": {},
   "source": [
    "#### **Print the number of rows and columns in the dataframe**"
   ]
  },
  {
   "cell_type": "code",
   "execution_count": 3,
   "metadata": {},
   "outputs": [
    {
     "name": "stdout",
     "output_type": "stream",
     "text": [
      "Number of Rows: 100\n",
      "Number of Columns: 7\n"
     ]
    }
   ],
   "source": [
    "rows = len(credit_df.axes[0]) \n",
    "cols = len(credit_df.axes[1])\n",
    "print(\"Number of Rows: \" + str(rows)) \n",
    "print(\"Number of Columns: \" + str(cols))"
   ]
  },
  {
   "cell_type": "markdown",
   "metadata": {},
   "source": [
    "#### **Print the total number of rows that have missing values**"
   ]
  },
  {
   "cell_type": "code",
   "execution_count": 4,
   "metadata": {},
   "outputs": [
    {
     "name": "stdout",
     "output_type": "stream",
     "text": [
      "Total number of rows that have missing values: 86\n"
     ]
    }
   ],
   "source": [
    "credit_df=credit_df.replace('?', np.NaN)\n",
    "nan_values =  sum(credit_df.isnull().values.ravel())\n",
    "credit_df = credit_df.fillna(credit_df.mean())\n",
    "print(\"Total number of rows that have missing values: \" + str(nan_values)) "
   ]
  },
  {
   "cell_type": "markdown",
   "metadata": {},
   "source": [
    "#### **Determine categorical and numerical features and assign each into `numerical_features` and `categorical_features`**"
   ]
  },
  {
   "cell_type": "code",
   "execution_count": 5,
   "metadata": {},
   "outputs": [
    {
     "data": {
      "text/html": [
       "<div>\n",
       "<style scoped>\n",
       "    .dataframe tbody tr th:only-of-type {\n",
       "        vertical-align: middle;\n",
       "    }\n",
       "\n",
       "    .dataframe tbody tr th {\n",
       "        vertical-align: top;\n",
       "    }\n",
       "\n",
       "    .dataframe thead th {\n",
       "        text-align: right;\n",
       "    }\n",
       "</style>\n",
       "<table border=\"1\" class=\"dataframe\">\n",
       "  <thead>\n",
       "    <tr style=\"text-align: right;\">\n",
       "      <th></th>\n",
       "      <th>Salary</th>\n",
       "      <th>Age</th>\n",
       "    </tr>\n",
       "  </thead>\n",
       "  <tbody>\n",
       "    <tr>\n",
       "      <th>0</th>\n",
       "      <td>72000</td>\n",
       "      <td>34</td>\n",
       "    </tr>\n",
       "    <tr>\n",
       "      <th>1</th>\n",
       "      <td>48000</td>\n",
       "      <td>42</td>\n",
       "    </tr>\n",
       "    <tr>\n",
       "      <th>2</th>\n",
       "      <td>54000</td>\n",
       "      <td>NaN</td>\n",
       "    </tr>\n",
       "    <tr>\n",
       "      <th>3</th>\n",
       "      <td>61000</td>\n",
       "      <td>38</td>\n",
       "    </tr>\n",
       "    <tr>\n",
       "      <th>4</th>\n",
       "      <td>NaN</td>\n",
       "      <td>32</td>\n",
       "    </tr>\n",
       "  </tbody>\n",
       "</table>\n",
       "</div>"
      ],
      "text/plain": [
       "  Salary  Age\n",
       "0  72000   34\n",
       "1  48000   42\n",
       "2  54000  NaN\n",
       "3  61000   38\n",
       "4    NaN   32"
      ]
     },
     "execution_count": 5,
     "metadata": {},
     "output_type": "execute_result"
    }
   ],
   "source": [
    "categorical_features = credit_df.drop(['Salary', 'Age'], axis=1)\n",
    "numerical_features = credit_df[['Salary','Age']]\n",
    "categorical_features.head(5)\n",
    "numerical_features.head(5)"
   ]
  },
  {
   "cell_type": "markdown",
   "metadata": {},
   "source": [
    "#### **Create the preprocessing pipelines for both numeric and categorical data that does imputation, scaling and ONeHotEncoder to the appropriate columns.**\n",
    "Use mean strategy for numerical imputation and most frequent for categorical imputation\n",
    "Use MinMaxScaler for data scaling.\n",
    "Enable drop first method in the OneHotEncoder constructor"
   ]
  },
  {
   "cell_type": "code",
   "execution_count": 6,
   "metadata": {},
   "outputs": [],
   "source": [
    "\n",
    "t1 = [('num', SimpleImputer(strategy='mean'),[0,5]), ('cat', SimpleImputer(strategy='most_frequent'),[1,2,3,4,6])]\n",
    "\n",
    "t = [('cat1',OneHotEncoder() ,[1,2,3,4,5])]\n"
   ]
  },
  {
   "cell_type": "markdown",
   "metadata": {},
   "source": [
    "#### **Implement ColumnTransformer for both numerical and categorical columns and assigned to a variable called `preprocessor`**"
   ]
  },
  {
   "cell_type": "code",
   "execution_count": 7,
   "metadata": {},
   "outputs": [],
   "source": [
    "\n",
    "ct = ColumnTransformer(transformers=t1)\n",
    "ct1 = ColumnTransformer(transformers=t)"
   ]
  },
  {
   "cell_type": "markdown",
   "metadata": {},
   "source": [
    "#### **Fit and transform the original data frame `credit_df` and assign the final output to `transformed_data_df`** \n",
    "`hints:` \n",
    "- *use the preprocessor object created in the previous to fit and transform on the credit_df.*\n",
    "- *use extract_feature_names method to get the feature names in order to create the final transformed_data_df*"
   ]
  },
  {
   "cell_type": "code",
   "execution_count": 8,
   "metadata": {},
   "outputs": [],
   "source": [
    "transformed_data_df = ct.fit_transform(credit_df)\n",
    "columns = ['Age', 'Salary','Occupation','Employment Status','Employement Type' ,'Gender', 'Purchased']\n",
    "transformed_data_df = pd.DataFrame(data = transformed_data_df , columns=columns)"
   ]
  },
  {
   "cell_type": "markdown",
   "metadata": {},
   "source": [
    "#### **Partition the dataset into `X` feature matrix and `y` target variable.**"
   ]
  },
  {
   "cell_type": "code",
   "execution_count": 9,
   "metadata": {},
   "outputs": [
    {
     "data": {
      "text/html": [
       "<div>\n",
       "<style scoped>\n",
       "    .dataframe tbody tr th:only-of-type {\n",
       "        vertical-align: middle;\n",
       "    }\n",
       "\n",
       "    .dataframe tbody tr th {\n",
       "        vertical-align: top;\n",
       "    }\n",
       "\n",
       "    .dataframe thead th {\n",
       "        text-align: right;\n",
       "    }\n",
       "</style>\n",
       "<table border=\"1\" class=\"dataframe\">\n",
       "  <thead>\n",
       "    <tr style=\"text-align: right;\">\n",
       "      <th></th>\n",
       "      <th>Age</th>\n",
       "      <th>Occupation</th>\n",
       "      <th>Employment Status</th>\n",
       "      <th>Employement Type</th>\n",
       "      <th>Gender</th>\n",
       "      <th>Purchased</th>\n",
       "    </tr>\n",
       "  </thead>\n",
       "  <tbody>\n",
       "    <tr>\n",
       "      <th>0</th>\n",
       "      <td>34</td>\n",
       "      <td>Male</td>\n",
       "      <td>Salaried</td>\n",
       "      <td>Yes</td>\n",
       "      <td>Permanent</td>\n",
       "      <td>No</td>\n",
       "    </tr>\n",
       "    <tr>\n",
       "      <th>1</th>\n",
       "      <td>42</td>\n",
       "      <td>Female</td>\n",
       "      <td>Business</td>\n",
       "      <td>Yes</td>\n",
       "      <td>Temporary</td>\n",
       "      <td>Yes</td>\n",
       "    </tr>\n",
       "    <tr>\n",
       "      <th>2</th>\n",
       "      <td>35.0714</td>\n",
       "      <td>Male</td>\n",
       "      <td>Business</td>\n",
       "      <td>No</td>\n",
       "      <td>Temporary</td>\n",
       "      <td>No</td>\n",
       "    </tr>\n",
       "    <tr>\n",
       "      <th>3</th>\n",
       "      <td>38</td>\n",
       "      <td>Male</td>\n",
       "      <td>Business</td>\n",
       "      <td>No</td>\n",
       "      <td>Permanent</td>\n",
       "      <td>No</td>\n",
       "    </tr>\n",
       "    <tr>\n",
       "      <th>4</th>\n",
       "      <td>32</td>\n",
       "      <td>Male</td>\n",
       "      <td>Salaried</td>\n",
       "      <td>Yes</td>\n",
       "      <td>Permanent</td>\n",
       "      <td>Yes</td>\n",
       "    </tr>\n",
       "    <tr>\n",
       "      <th>...</th>\n",
       "      <td>...</td>\n",
       "      <td>...</td>\n",
       "      <td>...</td>\n",
       "      <td>...</td>\n",
       "      <td>...</td>\n",
       "      <td>...</td>\n",
       "    </tr>\n",
       "    <tr>\n",
       "      <th>95</th>\n",
       "      <td>32</td>\n",
       "      <td>Female</td>\n",
       "      <td>Business</td>\n",
       "      <td>Yes</td>\n",
       "      <td>Temporary</td>\n",
       "      <td>Yes</td>\n",
       "    </tr>\n",
       "    <tr>\n",
       "      <th>96</th>\n",
       "      <td>35.0714</td>\n",
       "      <td>Female</td>\n",
       "      <td>Salaried</td>\n",
       "      <td>Yes</td>\n",
       "      <td>Temporary</td>\n",
       "      <td>No</td>\n",
       "    </tr>\n",
       "    <tr>\n",
       "      <th>97</th>\n",
       "      <td>32</td>\n",
       "      <td>Male</td>\n",
       "      <td>Salaried</td>\n",
       "      <td>Yes</td>\n",
       "      <td>Permanent</td>\n",
       "      <td>Yes</td>\n",
       "    </tr>\n",
       "    <tr>\n",
       "      <th>98</th>\n",
       "      <td>29</td>\n",
       "      <td>Male</td>\n",
       "      <td>Business</td>\n",
       "      <td>No</td>\n",
       "      <td>Temporary</td>\n",
       "      <td>No</td>\n",
       "    </tr>\n",
       "    <tr>\n",
       "      <th>99</th>\n",
       "      <td>34</td>\n",
       "      <td>Male</td>\n",
       "      <td>Salaried</td>\n",
       "      <td>No</td>\n",
       "      <td>Permanent</td>\n",
       "      <td>No</td>\n",
       "    </tr>\n",
       "  </tbody>\n",
       "</table>\n",
       "<p>100 rows × 6 columns</p>\n",
       "</div>"
      ],
      "text/plain": [
       "        Age Occupation Employment Status Employement Type     Gender Purchased\n",
       "0        34       Male          Salaried              Yes  Permanent        No\n",
       "1        42     Female          Business              Yes  Temporary       Yes\n",
       "2   35.0714       Male          Business               No  Temporary        No\n",
       "3        38       Male          Business               No  Permanent        No\n",
       "4        32       Male          Salaried              Yes  Permanent       Yes\n",
       "..      ...        ...               ...              ...        ...       ...\n",
       "95       32     Female          Business              Yes  Temporary       Yes\n",
       "96  35.0714     Female          Salaried              Yes  Temporary        No\n",
       "97       32       Male          Salaried              Yes  Permanent       Yes\n",
       "98       29       Male          Business               No  Temporary        No\n",
       "99       34       Male          Salaried               No  Permanent        No\n",
       "\n",
       "[100 rows x 6 columns]"
      ]
     },
     "execution_count": 9,
     "metadata": {},
     "output_type": "execute_result"
    }
   ],
   "source": [
    "X = transformed_data_df.drop(['Salary'], axis=1)\n",
    "y = transformed_data_df[['Salary']]\n",
    "y=y.astype('int')\n",
    "X"
   ]
  },
  {
   "cell_type": "markdown",
   "metadata": {},
   "source": [
    "#### **Split the data into training and testing: X_train, X_test, y_train, y_test**"
   ]
  },
  {
   "cell_type": "code",
   "execution_count": 10,
   "metadata": {},
   "outputs": [],
   "source": [
    "\n",
    "X_train, X_test, y_train, y_test = train_test_split(X,y, test_size = 0.2, random_state=4)"
   ]
  },
  {
   "cell_type": "markdown",
   "metadata": {},
   "source": [
    "#### **Build a k-nearest neighbors (KNN) classifier and train the model using the `fit` method.**"
   ]
  },
  {
   "cell_type": "code",
   "execution_count": 11,
   "metadata": {},
   "outputs": [],
   "source": [
    "\n",
    "k_range = range(1,26)\n",
    "scores = {}\n",
    "scores_list = []\n",
    "for k in k_range:\n",
    "    knn = KNeighborsClassifier(n_neighbors=k)\n",
    "    #model = make_pipeline(ct1, KNeighborsClassifier(n_neighbors=k))\n",
    "    pipeline = Pipeline(steps=[('t', ct1), ('m', knn)])\n",
    "    pipeline.fit(X_train, y_train)\n",
    "    y_pred=pipeline.predict(X_test)\n",
    "    scores[k] = metrics.accuracy_score(y_test, y_pred)\n",
    "    scores_list.append(metrics.accuracy_score(y_test, y_pred))"
   ]
  },
  {
   "cell_type": "code",
   "execution_count": 12,
   "metadata": {},
   "outputs": [
    {
     "data": {
      "text/plain": [
       "Text(0, 0.5, 'Testing Accuracy')"
      ]
     },
     "execution_count": 12,
     "metadata": {},
     "output_type": "execute_result"
    },
    {
     "data": {
      "image/png": "[encoded data removed]",
      "text/plain": [
       "<Figure size 432x288 with 1 Axes>"
      ]
     },
     "metadata": {
      "needs_background": "light"
     },
     "output_type": "display_data"
    }
   ],
   "source": [
    "\n",
    "\n",
    "plt.plot(k_range, scores_list)\n",
    "plt.xlabel('Value of K for KNN')\n",
    "plt.ylabel('Testing Accuracy')"
   ]
  },
  {
   "cell_type": "code",
   "execution_count": 13,
   "metadata": {},
   "outputs": [
    {
     "data": {
      "text/plain": [
       "Pipeline(steps=[('t',\n",
       "                 ColumnTransformer(transformers=[('cat1', OneHotEncoder(),\n",
       "                                                  [1, 2, 3, 4, 5])])),\n",
       "                ('m', KNeighborsClassifier(n_neighbors=7))])"
      ]
     },
     "execution_count": 13,
     "metadata": {},
     "output_type": "execute_result"
    }
   ],
   "source": [
    "knn = KNeighborsClassifier(n_neighbors=7)\n",
    "pipeline = Pipeline(steps=[('t', ct1), ('m', knn)])\n",
    "pipeline.fit(X_train, y_train)"
   ]
  },
  {
   "cell_type": "markdown",
   "metadata": {},
   "source": [
    "#### **Compute and display the percent accuracy score**"
   ]
  },
  {
   "cell_type": "code",
   "execution_count": 14,
   "metadata": {},
   "outputs": [
    {
     "name": "stdout",
     "output_type": "stream",
     "text": [
      "KNN Accuracy score: 0.900000\n"
     ]
    }
   ],
   "source": [
    "print(\"KNN Accuracy score: %f\" % pipeline.score(X_test, y_test))"
   ]
  },
  {
   "cell_type": "markdown",
   "metadata": {},
   "source": [
    "#### **Create a dataframe to hold both the Actual and Predicted labels and display the first 20 rows**"
   ]
  },
  {
   "cell_type": "code",
   "execution_count": 15,
   "metadata": {},
   "outputs": [
    {
     "data": {
      "text/html": [
       "<div>\n",
       "<style scoped>\n",
       "    .dataframe tbody tr th:only-of-type {\n",
       "        vertical-align: middle;\n",
       "    }\n",
       "\n",
       "    .dataframe tbody tr th {\n",
       "        vertical-align: top;\n",
       "    }\n",
       "\n",
       "    .dataframe thead th {\n",
       "        text-align: right;\n",
       "    }\n",
       "</style>\n",
       "<table border=\"1\" class=\"dataframe\">\n",
       "  <thead>\n",
       "    <tr style=\"text-align: right;\">\n",
       "      <th></th>\n",
       "      <th>Age</th>\n",
       "      <th>Salary</th>\n",
       "      <th>Occupation</th>\n",
       "      <th>Employment Status</th>\n",
       "      <th>Employement Type</th>\n",
       "      <th>Gender</th>\n",
       "      <th>Purchased</th>\n",
       "      <th>predicted_salaries</th>\n",
       "    </tr>\n",
       "  </thead>\n",
       "  <tbody>\n",
       "    <tr>\n",
       "      <th>0</th>\n",
       "      <td>34</td>\n",
       "      <td>72000</td>\n",
       "      <td>Male</td>\n",
       "      <td>Salaried</td>\n",
       "      <td>Yes</td>\n",
       "      <td>Permanent</td>\n",
       "      <td>No</td>\n",
       "      <td>72000</td>\n",
       "    </tr>\n",
       "    <tr>\n",
       "      <th>1</th>\n",
       "      <td>42</td>\n",
       "      <td>48000</td>\n",
       "      <td>Female</td>\n",
       "      <td>Business</td>\n",
       "      <td>Yes</td>\n",
       "      <td>Temporary</td>\n",
       "      <td>Yes</td>\n",
       "      <td>58000</td>\n",
       "    </tr>\n",
       "    <tr>\n",
       "      <th>2</th>\n",
       "      <td>35.0714</td>\n",
       "      <td>54000</td>\n",
       "      <td>Male</td>\n",
       "      <td>Business</td>\n",
       "      <td>No</td>\n",
       "      <td>Temporary</td>\n",
       "      <td>No</td>\n",
       "      <td>61625</td>\n",
       "    </tr>\n",
       "    <tr>\n",
       "      <th>3</th>\n",
       "      <td>38</td>\n",
       "      <td>61000</td>\n",
       "      <td>Male</td>\n",
       "      <td>Business</td>\n",
       "      <td>No</td>\n",
       "      <td>Permanent</td>\n",
       "      <td>No</td>\n",
       "      <td>61000</td>\n",
       "    </tr>\n",
       "    <tr>\n",
       "      <th>4</th>\n",
       "      <td>32</td>\n",
       "      <td>61625</td>\n",
       "      <td>Male</td>\n",
       "      <td>Salaried</td>\n",
       "      <td>Yes</td>\n",
       "      <td>Permanent</td>\n",
       "      <td>Yes</td>\n",
       "      <td>61625</td>\n",
       "    </tr>\n",
       "    <tr>\n",
       "      <th>5</th>\n",
       "      <td>31</td>\n",
       "      <td>58000</td>\n",
       "      <td>Female</td>\n",
       "      <td>Business</td>\n",
       "      <td>Yes</td>\n",
       "      <td>Temporary</td>\n",
       "      <td>Yes</td>\n",
       "      <td>58000</td>\n",
       "    </tr>\n",
       "    <tr>\n",
       "      <th>6</th>\n",
       "      <td>35.0714</td>\n",
       "      <td>52000</td>\n",
       "      <td>Female</td>\n",
       "      <td>Salaried</td>\n",
       "      <td>Yes</td>\n",
       "      <td>Temporary</td>\n",
       "      <td>No</td>\n",
       "      <td>52000</td>\n",
       "    </tr>\n",
       "    <tr>\n",
       "      <th>7</th>\n",
       "      <td>22</td>\n",
       "      <td>79000</td>\n",
       "      <td>Female</td>\n",
       "      <td>Salaried</td>\n",
       "      <td>Yes</td>\n",
       "      <td>Self Employed</td>\n",
       "      <td>Yes</td>\n",
       "      <td>79000</td>\n",
       "    </tr>\n",
       "    <tr>\n",
       "      <th>8</th>\n",
       "      <td>38</td>\n",
       "      <td>61625</td>\n",
       "      <td>Male</td>\n",
       "      <td>Business</td>\n",
       "      <td>No</td>\n",
       "      <td>Temporary</td>\n",
       "      <td>No</td>\n",
       "      <td>61625</td>\n",
       "    </tr>\n",
       "    <tr>\n",
       "      <th>9</th>\n",
       "      <td>49</td>\n",
       "      <td>67000</td>\n",
       "      <td>Male</td>\n",
       "      <td>Business</td>\n",
       "      <td>Yes</td>\n",
       "      <td>Self Employed</td>\n",
       "      <td>Yes</td>\n",
       "      <td>67000</td>\n",
       "    </tr>\n",
       "    <tr>\n",
       "      <th>10</th>\n",
       "      <td>34</td>\n",
       "      <td>70000</td>\n",
       "      <td>Male</td>\n",
       "      <td>Salaried</td>\n",
       "      <td>No</td>\n",
       "      <td>Permanent</td>\n",
       "      <td>No</td>\n",
       "      <td>70000</td>\n",
       "    </tr>\n",
       "    <tr>\n",
       "      <th>11</th>\n",
       "      <td>42</td>\n",
       "      <td>48000</td>\n",
       "      <td>Female</td>\n",
       "      <td>Business</td>\n",
       "      <td>No</td>\n",
       "      <td>Temporary</td>\n",
       "      <td>Yes</td>\n",
       "      <td>48000</td>\n",
       "    </tr>\n",
       "    <tr>\n",
       "      <th>12</th>\n",
       "      <td>29</td>\n",
       "      <td>54000</td>\n",
       "      <td>Female</td>\n",
       "      <td>Business</td>\n",
       "      <td>No</td>\n",
       "      <td>Temporary</td>\n",
       "      <td>No</td>\n",
       "      <td>54000</td>\n",
       "    </tr>\n",
       "    <tr>\n",
       "      <th>13</th>\n",
       "      <td>38</td>\n",
       "      <td>61000</td>\n",
       "      <td>Male</td>\n",
       "      <td>Business</td>\n",
       "      <td>No</td>\n",
       "      <td>Permanent</td>\n",
       "      <td>No</td>\n",
       "      <td>61000</td>\n",
       "    </tr>\n",
       "    <tr>\n",
       "      <th>14</th>\n",
       "      <td>35.0714</td>\n",
       "      <td>61625</td>\n",
       "      <td>Male</td>\n",
       "      <td>Salaried</td>\n",
       "      <td>Yes</td>\n",
       "      <td>Permanent</td>\n",
       "      <td>Yes</td>\n",
       "      <td>61625</td>\n",
       "    </tr>\n",
       "    <tr>\n",
       "      <th>15</th>\n",
       "      <td>32</td>\n",
       "      <td>58000</td>\n",
       "      <td>Female</td>\n",
       "      <td>Business</td>\n",
       "      <td>Yes</td>\n",
       "      <td>Temporary</td>\n",
       "      <td>Yes</td>\n",
       "      <td>58000</td>\n",
       "    </tr>\n",
       "    <tr>\n",
       "      <th>16</th>\n",
       "      <td>35.0714</td>\n",
       "      <td>52000</td>\n",
       "      <td>Male</td>\n",
       "      <td>Salaried</td>\n",
       "      <td>Yes</td>\n",
       "      <td>Temporary</td>\n",
       "      <td>Yes</td>\n",
       "      <td>52000</td>\n",
       "    </tr>\n",
       "    <tr>\n",
       "      <th>17</th>\n",
       "      <td>22</td>\n",
       "      <td>85000</td>\n",
       "      <td>Female</td>\n",
       "      <td>Salaried</td>\n",
       "      <td>Yes</td>\n",
       "      <td>Temporary</td>\n",
       "      <td>Yes</td>\n",
       "      <td>85000</td>\n",
       "    </tr>\n",
       "    <tr>\n",
       "      <th>18</th>\n",
       "      <td>38</td>\n",
       "      <td>61625</td>\n",
       "      <td>Male</td>\n",
       "      <td>Business</td>\n",
       "      <td>Yes</td>\n",
       "      <td>Temporary</td>\n",
       "      <td>No</td>\n",
       "      <td>61625</td>\n",
       "    </tr>\n",
       "    <tr>\n",
       "      <th>19</th>\n",
       "      <td>45</td>\n",
       "      <td>67000</td>\n",
       "      <td>Male</td>\n",
       "      <td>Business</td>\n",
       "      <td>Yes</td>\n",
       "      <td>Self Employed</td>\n",
       "      <td>Yes</td>\n",
       "      <td>67000</td>\n",
       "    </tr>\n",
       "  </tbody>\n",
       "</table>\n",
       "</div>"
      ],
      "text/plain": [
       "        Age Salary Occupation Employment Status Employement Type  \\\n",
       "0        34  72000       Male          Salaried              Yes   \n",
       "1        42  48000     Female          Business              Yes   \n",
       "2   35.0714  54000       Male          Business               No   \n",
       "3        38  61000       Male          Business               No   \n",
       "4        32  61625       Male          Salaried              Yes   \n",
       "5        31  58000     Female          Business              Yes   \n",
       "6   35.0714  52000     Female          Salaried              Yes   \n",
       "7        22  79000     Female          Salaried              Yes   \n",
       "8        38  61625       Male          Business               No   \n",
       "9        49  67000       Male          Business              Yes   \n",
       "10       34  70000       Male          Salaried               No   \n",
       "11       42  48000     Female          Business               No   \n",
       "12       29  54000     Female          Business               No   \n",
       "13       38  61000       Male          Business               No   \n",
       "14  35.0714  61625       Male          Salaried              Yes   \n",
       "15       32  58000     Female          Business              Yes   \n",
       "16  35.0714  52000       Male          Salaried              Yes   \n",
       "17       22  85000     Female          Salaried              Yes   \n",
       "18       38  61625       Male          Business              Yes   \n",
       "19       45  67000       Male          Business              Yes   \n",
       "\n",
       "           Gender Purchased  predicted_salaries  \n",
       "0       Permanent        No               72000  \n",
       "1       Temporary       Yes               58000  \n",
       "2       Temporary        No               61625  \n",
       "3       Permanent        No               61000  \n",
       "4       Permanent       Yes               61625  \n",
       "5       Temporary       Yes               58000  \n",
       "6       Temporary        No               52000  \n",
       "7   Self Employed       Yes               79000  \n",
       "8       Temporary        No               61625  \n",
       "9   Self Employed       Yes               67000  \n",
       "10      Permanent        No               70000  \n",
       "11      Temporary       Yes               48000  \n",
       "12      Temporary        No               54000  \n",
       "13      Permanent        No               61000  \n",
       "14      Permanent       Yes               61625  \n",
       "15      Temporary       Yes               58000  \n",
       "16      Temporary       Yes               52000  \n",
       "17      Temporary       Yes               85000  \n",
       "18      Temporary        No               61625  \n",
       "19  Self Employed       Yes               67000  "
      ]
     },
     "execution_count": 15,
     "metadata": {},
     "output_type": "execute_result"
    }
   ],
   "source": [
    "predicted_salaries = pipeline.predict(X)\n",
    "\n",
    "transformed_data_df['predicted_salaries'] = predicted_salaries\n",
    "transformed_data_df.head(20)"
   ]
  },
  {
   "cell_type": "code",
   "execution_count": null,
   "metadata": {},
   "outputs": [],
   "source": []
  }
 ],
 "metadata": {
  "kernelspec": {
   "display_name": "Python 3",
   "language": "python",
   "name": "python3"
  },
  "language_info": {
   "codemirror_mode": {
    "name": "ipython",
    "version": 3
   },
   "file_extension": ".py",
   "mimetype": "text/x-python",
   "name": "python",
   "nbconvert_exporter": "python",
   "pygments_lexer": "ipython3",
   "version": "3.7.6"
  }
 },
 "nbformat": 4,
 "nbformat_minor": 4
}
